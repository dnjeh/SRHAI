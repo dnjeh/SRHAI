{
    "cells": [
     {
      "cell_type": "code",
      "execution_count": 2,
      "metadata": {},
      "outputs": [
       {
        "name": "stdout",
        "output_type": "stream",
        "text": [
         "Collecting numpy\n",
         "  Obtaining dependency information for numpy from https://files.pythonhosted.org/packages/16/2e/86f24451c2d530c88daf997cb8d6ac622c1d40d19f5a031ed68a4b73a374/numpy-1.26.4-cp312-cp312-win_amd64.whl.metadata\n",
         "  Downloading numpy-1.26.4-cp312-cp312-win_amd64.whl.metadata (61 kB)\n",
         "     ---------------------------------------- 0.0/61.0 kB ? eta -:--:--\n",
         "     ------------------------------- ------ 51.2/61.0 kB 871.5 kB/s eta 0:00:01\n",
         "     ---------------------------------------- 61.0/61.0 kB 1.1 MB/s eta 0:00:00\n",
         "Downloading numpy-1.26.4-cp312-cp312-win_amd64.whl (15.5 MB)\n",
         "   ---------------------------------------- 0.0/15.5 MB ? eta -:--:--\n",
         "   ---- ----------------------------------- 1.7/15.5 MB 35.1 MB/s eta 0:00:01\n",
         "   ---------- ----------------------------- 4.2/15.5 MB 44.9 MB/s eta 0:00:01\n",
         "   ---------------- ----------------------- 6.3/15.5 MB 44.5 MB/s eta 0:00:01\n",
         "   -------------------- ------------------- 8.1/15.5 MB 43.2 MB/s eta 0:00:01\n",
         "   --------------------------- ------------ 10.8/15.5 MB 50.4 MB/s eta 0:00:01\n",
         "   -------------------------------- ------- 12.6/15.5 MB 50.4 MB/s eta 0:00:01\n",
         "   -------------------------------- ------- 12.6/15.5 MB 50.4 MB/s eta 0:00:01\n",
         "   ------------------------------------- -- 14.6/15.5 MB 36.4 MB/s eta 0:00:01\n",
         "   ---------------------------------------  15.5/15.5 MB 36.4 MB/s eta 0:00:01\n",
         "   ---------------------------------------- 15.5/15.5 MB 32.8 MB/s eta 0:00:00\n",
         "Installing collected packages: numpy\n",
         "Successfully installed numpy-1.26.4\n",
         "Note: you may need to restart the kernel to use updated packages.\n"
        ]
       },
       {
        "name": "stderr",
        "output_type": "stream",
        "text": [
         "\n",
         "[notice] A new release of pip is available: 23.2.1 -> 24.0\n",
         "[notice] To update, run: python.exe -m pip install --upgrade pip\n"
        ]
       }
      ],
      "source": [
       "%pip install numpy\n",
       "%pip install opencv-python"
      ]
     },
     {
      "cell_type": "code",
      "execution_count": 3,
      "metadata": {},
      "outputs": [],
      "source": [
       "%config Completer.use_jedi = False"
      ]
     },
     {
      "cell_type": "code",
      "execution_count": 4,
      "metadata": {},
      "outputs": [],
      "source": [
       "import cv2\n",
       "import numpy as np"
      ]
     },
     {
      "cell_type": "code",
      "execution_count": 7,
      "metadata": {},
      "outputs": [],
      "source": [
       "img = np.zeros((500, 600), np.uint8)\n",
       "\n",
       "cv2.imshow(\"window\", img)\n",
       "\n",
       "def onChange(pos):\n",
       "    img[:] = pos\n",
       "    cv2.imshow(\"window\", img)\n",
       "\n",
       "cv2.createTrackbar(\"재윤아일하렴\", \"window\", 0, 255, onChange)\n",
       "\n",
       "cv2.waitKey(0)\n",
       "\n",
       "cv2.destroyAllWindows()"
      ]
     }
    ],
    "metadata": {
     "kernelspec": {
      "display_name": "Python 3",
      "language": "python",
      "name": "python3"
     },
     "language_info": {
      "codemirror_mode": {
       "name": "ipython",
       "version": 3
      },
      "file_extension": ".py",
      "mimetype": "text/x-python",
      "name": "python",
      "nbconvert_exporter": "python",
      "pygments_lexer": "ipython3",
      "version": "3.12.0"
     }
    },
    "nbformat": 4,
    "nbformat_minor": 2
   }
   