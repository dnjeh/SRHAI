{
 "cells": [
  {
   "cell_type": "code",
   "execution_count": 3,
   "metadata": {},
   "outputs": [],
   "source": [
    "import numpy as np\n",
    "import cv2 as cv\n",
    "import random\n",
    "\n",
    "drawing = False\n",
    "\n",
    "def real_circle(x, y):\n",
    "    cv.circle(img, (x, y), 15, tuple([random.randint(0, 255) for i in range(3)]), -1)\n",
    "def draw_circle(event, x, y, flags, param):\n",
    "    global drawing\n",
    "    if event == cv.EVENT_LBUTTONDOWN:\n",
    "        drawing = True\n",
    "    elif event == cv.EVENT_MOUSEMOVE :\n",
    "        if drawing:\n",
    "            real_circle(x, y)\n",
    "    elif event == cv.EVENT_LBUTTONUP:\n",
    "        drawing = False\n",
    "        real_circle(x, y)\n",
    "\n",
    "img = np.zeros((700, 700, 3), np.uint8)\n",
    "\n",
    "cv.namedWindow(\"sketch\")\n",
    "cv.setMouseCallback(\"sketch\", draw_circle)\n",
    "\n",
    "while True:\n",
    "    cv.imshow(\"sketch\", img)\n",
    "    k = cv.waitKey(1) & 0xFF\n",
    "    if k==ord('q'):\n",
    "        break\n",
    "cv.destroyAllWindows()"
   ]
  }
 ],
 "metadata": {
  "kernelspec": {
   "display_name": "Python 3",
   "language": "python",
   "name": "python3"
  },
  "language_info": {
   "codemirror_mode": {
    "name": "ipython",
    "version": 3
   },
   "file_extension": ".py",
   "mimetype": "text/x-python",
   "name": "python",
   "nbconvert_exporter": "python",
   "pygments_lexer": "ipython3",
   "version": "3.12.0"
  }
 },
 "nbformat": 4,
 "nbformat_minor": 2
}
